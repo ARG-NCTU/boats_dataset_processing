{
 "cells": [
  {
   "cell_type": "code",
   "execution_count": 2,
   "metadata": {},
   "outputs": [],
   "source": [
    "import cv2\n",
    "import numpy as np\n",
    "import matplotlib.pyplot as plt\n",
    "import matplotlib.image as mpimg\n",
    "import stitch\n",
    "import utils\n",
    "import features"
   ]
  },
  {
   "cell_type": "code",
   "execution_count": 3,
   "metadata": {},
   "outputs": [],
   "source": [
    "def convertResult(img):\n",
    "    '''Because of your images which were loaded by opencv, \n",
    "    in order to display the correct output with matplotlib, \n",
    "    you need to reduce the range of your floating point image from [0,255] to [0,1] \n",
    "    and converting the image from BGR to RGB:'''\n",
    "    img = np.array(img,dtype=float)/float(255)\n",
    "    img = img[:,:,::-1]\n",
    "    return img\n",
    "    "
   ]
  },
  {
   "cell_type": "code",
   "execution_count": null,
   "metadata": {},
   "outputs": [
    {
     "ename": "KeyboardInterrupt",
     "evalue": "",
     "output_type": "error",
     "traceback": [
      "\u001b[0;31m---------------------------------------------------------------------------\u001b[0m",
      "\u001b[0;31mKeyboardInterrupt\u001b[0m                         Traceback (most recent call last)",
      "Cell \u001b[0;32mIn[4], line 2\u001b[0m\n\u001b[1;32m      1\u001b[0m \u001b[38;5;66;03m#load images\u001b[39;00m\n\u001b[0;32m----> 2\u001b[0m list_images\u001b[38;5;241m=\u001b[39m\u001b[43mutils\u001b[49m\u001b[38;5;241;43m.\u001b[39;49m\u001b[43mloadImages\u001b[49m\u001b[43m(\u001b[49m\u001b[38;5;124;43m'\u001b[39;49m\u001b[38;5;124;43mdata/ocean\u001b[39;49m\u001b[38;5;124;43m'\u001b[39;49m\u001b[43m,\u001b[49m\u001b[43mresize\u001b[49m\u001b[38;5;241;43m=\u001b[39;49m\u001b[38;5;241;43m0\u001b[39;49m\u001b[43m)\u001b[49m\n",
      "File \u001b[0;32m~/Panorama/utils.py:12\u001b[0m, in \u001b[0;36mloadImages\u001b[0;34m(path, resize)\u001b[0m\n\u001b[1;32m     10\u001b[0m list_image \u001b[38;5;241m=\u001b[39m []\n\u001b[1;32m     11\u001b[0m \u001b[38;5;28;01mfor\u001b[39;00m _, j \u001b[38;5;129;01min\u001b[39;00m \u001b[38;5;28menumerate\u001b[39m(image_path):\n\u001b[0;32m---> 12\u001b[0m     image \u001b[38;5;241m=\u001b[39m \u001b[43mcv2\u001b[49m\u001b[38;5;241;43m.\u001b[39;49m\u001b[43mimread\u001b[49m\u001b[43m(\u001b[49m\u001b[43mj\u001b[49m\u001b[43m)\u001b[49m\n\u001b[1;32m     13\u001b[0m     \u001b[38;5;28;01mif\u001b[39;00m resize \u001b[38;5;241m==\u001b[39m \u001b[38;5;241m1\u001b[39m:\n\u001b[1;32m     14\u001b[0m         image \u001b[38;5;241m=\u001b[39m cv2\u001b[38;5;241m.\u001b[39mresize(\n\u001b[1;32m     15\u001b[0m             image, (\u001b[38;5;28mint\u001b[39m(image\u001b[38;5;241m.\u001b[39mshape[\u001b[38;5;241m1\u001b[39m] \u001b[38;5;241m/\u001b[39m \u001b[38;5;241m4\u001b[39m), \u001b[38;5;28mint\u001b[39m(image\u001b[38;5;241m.\u001b[39mshape[\u001b[38;5;241m0\u001b[39m] \u001b[38;5;241m/\u001b[39m \u001b[38;5;241m4\u001b[39m))\n\u001b[1;32m     16\u001b[0m         )\n",
      "\u001b[0;31mKeyboardInterrupt\u001b[0m: "
     ]
    },
    {
     "ename": "",
     "evalue": "",
     "output_type": "error",
     "traceback": [
      "\u001b[1;31mThe Kernel crashed while executing code in the current cell or a previous cell. \n",
      "\u001b[1;31mPlease review the code in the cell(s) to identify a possible cause of the failure. \n",
      "\u001b[1;31mClick <a href='https://aka.ms/vscodeJupyterKernelCrash'>here</a> for more info. \n",
      "\u001b[1;31mView Jupyter <a href='command:jupyter.viewOutput'>log</a> for further details."
     ]
    }
   ],
   "source": [
    "#load images\n",
    "# Load images from each directory in the specified order\n",
    "for dir_name in input_dirs:\n",
    "    # Load images from the directory appending the name of the image to the directory path\n",
    "    for i in range(0):  # Assuming the number of frames is 35882\n",
    "        frame_name = f\"frame{i:04d}.jpg\"\n",
    "        dir_path = os.path.join(input_dirs, frame_name)\n",
    "    list_images = utils.loadImages(dir_path, resize)\n",
    "    \n",
    "list_images=utils.loadImages('data/ocean',resize=0)"
   ]
  },
  {
   "cell_type": "code",
   "execution_count": null,
   "metadata": {},
   "outputs": [],
   "source": [
    "#extract keypoints and descriptors using sift\n",
    "k0,f0=features.findAndDescribeFeatures(list_images[0],opt='ORB')\n",
    "k1,f1=features.findAndDescribeFeatures(list_images[1],opt='ORB')"
   ]
  },
  {
   "cell_type": "code",
   "execution_count": null,
   "metadata": {},
   "outputs": [],
   "source": [
    "#draw keypoints\n",
    "img0_kp=features.drawKeypoints(list_images[0].copy(),k0)\n",
    "img1_kp=features.drawKeypoints(list_images[1].copy(),k1)\n",
    "\n",
    "plt_img = np.concatenate((img0_kp, img1_kp), axis=1)\n",
    "plt.figure(figsize=(15,15))\n",
    "plt.imshow(convertResult(plt_img))"
   ]
  },
  {
   "cell_type": "code",
   "execution_count": null,
   "metadata": {},
   "outputs": [],
   "source": [
    "#matching features using BruteForce \n",
    "mat=features.matchFeatures(f0,f1,ratio=0.6,opt='BF')"
   ]
  },
  {
   "cell_type": "code",
   "execution_count": null,
   "metadata": {},
   "outputs": [],
   "source": [
    "#Computing Homography matrix and mask\n",
    "H,matMask=features.generateHomography(list_images[0],list_images[1])"
   ]
  },
  {
   "cell_type": "code",
   "execution_count": null,
   "metadata": {},
   "outputs": [],
   "source": [
    "#draw matches\n",
    "img_matches = features.drawMatches(list_images[0],k0,list_images[1],k1,mat,matMask)\n",
    "plt.figure(figsize=(15,15))\n",
    "plt.imshow(convertResult(img_matches))"
   ]
  },
  {
   "cell_type": "code",
   "execution_count": null,
   "metadata": {},
   "outputs": [],
   "source": [
    "#wrap 2 image\n",
    "#choose list_images[0] as desination\n",
    "pano,non_blend,left_side,right_side=stitch.warpTwoImages(list_images[1],list_images[0],True)"
   ]
  },
  {
   "cell_type": "code",
   "execution_count": null,
   "metadata": {},
   "outputs": [],
   "source": [
    "#display the leftside of pano before cropping\n",
    "plt.figure(figsize=(15,15))\n",
    "plt.imshow(convertResult(left_side))"
   ]
  },
  {
   "cell_type": "code",
   "execution_count": null,
   "metadata": {},
   "outputs": [],
   "source": [
    "#display the rightside of pano before cropping\n",
    "plt.figure(figsize=(15,15))\n",
    "plt.imshow(convertResult(right_side))"
   ]
  },
  {
   "cell_type": "code",
   "execution_count": null,
   "metadata": {},
   "outputs": [],
   "source": [
    "#display pano without cropping and blending\n",
    "plt.figure(figsize=(15,15))\n",
    "plt.imshow(convertResult(non_blend))"
   ]
  },
  {
   "cell_type": "code",
   "execution_count": null,
   "metadata": {},
   "outputs": [],
   "source": [
    "#if you choose list_images[1] as desination, the output look like this\n",
    "_,non_blend2,_,_=stitch.warpTwoImages(list_images[0],list_images[1],True)\n",
    "plt.figure(figsize=(15,15))\n",
    "plt.imshow(convertResult(non_blend2))"
   ]
  },
  {
   "cell_type": "code",
   "execution_count": null,
   "metadata": {},
   "outputs": [],
   "source": [
    "#pano after cropping and blending\n",
    "plt.figure(figsize=(15,15))\n",
    "plt.imshow(convertResult(pano))"
   ]
  },
  {
   "cell_type": "code",
   "execution_count": null,
   "metadata": {},
   "outputs": [],
   "source": [
    "#multi stitching\n",
    "#load images\n",
    "import utils\n",
    "list_images=utils.loadImages('data/ocean',resize=0)\n",
    "panorama=stitch.multiStitching(list_images)\n",
    "plt.figure(figsize=(20,20))\n",
    "plt.imshow(convertResult(panorama))"
   ]
  },
  {
   "cell_type": "code",
   "execution_count": null,
   "metadata": {},
   "outputs": [],
   "source": []
  }
 ],
 "metadata": {
  "kernelspec": {
   "display_name": "Python 3",
   "language": "python",
   "name": "python3"
  },
  "language_info": {
   "codemirror_mode": {
    "name": "ipython",
    "version": 3
   },
   "file_extension": ".py",
   "mimetype": "text/x-python",
   "name": "python",
   "nbconvert_exporter": "python",
   "pygments_lexer": "ipython3",
   "version": "3.8.10"
  }
 },
 "nbformat": 4,
 "nbformat_minor": 2
}
